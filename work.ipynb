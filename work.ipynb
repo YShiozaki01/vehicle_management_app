{
 "cells": [
  {
   "cell_type": "code",
   "execution_count": 4,
   "metadata": {},
   "outputs": [],
   "source": [
    "import sqlite3\n",
    "\n",
    "conn = sqlite3.connect(\"./database/database.db\")\n",
    "cur = conn.cursor()\n",
    "sql = \"DELETE FROM T車両台帳;\"\n",
    "cur.execute(sql)\n",
    "conn.commit()\n",
    "sql = \"\"\"\n",
    "    SELECT\n",
    "    company_use_number,\n",
    "    classification,\n",
    "    maker,\n",
    "    model_number,\n",
    "    body_number,\n",
    "    modelYear,\n",
    "    car_size,\n",
    "    load_capacity,\n",
    "    specification,\n",
    "    riding_capacity,\n",
    "    fuel_type,\n",
    "    update_date\n",
    "    FROM TBase_Vehicle\n",
    "    ORDER BY id;\n",
    "    \"\"\"\n",
    "cur.execute(sql)\n",
    "result = cur.fetchall()\n",
    "i = 0\n",
    "for c in result:\n",
    "    i += 1\n",
    "    sql = f\"INSERT INTO T車両台帳 VALUES({i}, ?, ?, ?, ?, ?, ?, ?, ?, ?, ?, ?, ?);\"\n",
    "    cur.execute(sql, c)\n",
    "    conn.commit()"
   ]
  },
  {
   "cell_type": "code",
   "execution_count": null,
   "metadata": {},
   "outputs": [],
   "source": [
    "import sqlite3\n",
    "\n",
    "conn = sqlite3.connect(\"database/database.db\")\n",
    "cur = conn.cursor()\n",
    "sql = \"\"\"\n",
    "DELETE FROM T車両台帳 WHERE company_use_number = '123';\n",
    "DELETE FROM T登録番号 WHERE company_use_number = '123';\n",
    "DELETE FROM T車両履歴 WHERE company_use_number = '123';\n",
    "\"\"\"\n",
    "cur.executescript(sql)\n",
    "conn.commit()"
   ]
  },
  {
   "cell_type": "code",
   "execution_count": 3,
   "metadata": {},
   "outputs": [],
   "source": [
    "import sqlite3\n",
    "\n",
    "# テーブルバックアップ\n",
    "conn = sqlite3.connect(\"database/database.db\")\n",
    "cur = conn.cursor()\n",
    "sql = \"\"\"\n",
    "    DELETE FROM TBK車両台帳;\n",
    "    DELETE FROM TBK車両履歴;\n",
    "    DELETE FROM TBK登録番号;\n",
    "    INSERT INTO TBK車両台帳 SELECT * FROM T車両台帳;\n",
    "    INSERT INTO TBK車両履歴 SELECT * FROM T車両履歴;\n",
    "    INSERT INTO TBK登録番号 SELECT * FROM T登録番号;\n",
    "    \"\"\"\n",
    "cur.executescript(sql)\n",
    "conn.commit()"
   ]
  },
  {
   "cell_type": "code",
   "execution_count": 1,
   "metadata": {},
   "outputs": [],
   "source": [
    "import sqlite3\n",
    "\n",
    "# バックアップデータ戻し\n",
    "conn = sqlite3.connect(\"database/database.db\")\n",
    "cur = conn.cursor()\n",
    "sql = \"\"\"\n",
    "    DELETE FROM T車両台帳;\n",
    "    DELETE FROM T車両履歴;\n",
    "    DELETE FROM T登録番号;\n",
    "    INSERT INTO T車両台帳 SELECT * FROM TBK車両台帳;\n",
    "    INSERT INTO T車両履歴 SELECT * FROM TBK車両履歴;\n",
    "    INSERT INTO T登録番号 SELECT * FROM TBK登録番号;\n",
    "    \"\"\"\n",
    "cur.executescript(sql)\n",
    "conn.commit()"
   ]
  },
  {
   "cell_type": "code",
   "execution_count": null,
   "metadata": {},
   "outputs": [],
   "source": [
    "import sqlite3\n",
    "\n",
    "# TW系テーブルクリア\n",
    "conn = sqlite3.connect(r\"database\\database.db\")\n",
    "cur = conn.cursor()\n",
    "sql = \"\"\"\n",
    "    DELETE FROM TPrintWork;\n",
    "    DELETE FROM TW内訳別申請台数;\n",
    "    DELETE FROM TW内訳別保有台数;\n",
    "    DELETE FROM TW車格別保有台数;\n",
    "    DELETE FROM TW申請車両;\n",
    "    \"\"\"\n",
    "cur.executescript(sql)\n",
    "conn.commit()"
   ]
  },
  {
   "cell_type": "code",
   "execution_count": 9,
   "metadata": {},
   "outputs": [
    {
     "name": "stdout",
     "output_type": "stream",
     "text": [
      "2023/02/01\n"
     ]
    }
   ],
   "source": [
    "import datetime\n",
    "from dateutil.relativedelta import relativedelta\n",
    "\n",
    "str_date = '2023/05/01'\n",
    "target_date = datetime.datetime.strptime(str_date, '%Y/%m/%d')\n",
    "result_date = target_date + relativedelta(months=-3)\n",
    "three_month_ago = str(format(result_date, '%Y/%m/%d'))\n",
    "print(three_month_ago)"
   ]
  },
  {
   "cell_type": "code",
   "execution_count": 16,
   "metadata": {},
   "outputs": [
    {
     "name": "stdout",
     "output_type": "stream",
     "text": [
      "[('A',), ('F',), ('T',)]\n",
      "False\n"
     ]
    }
   ],
   "source": [
    "import sqlite3\n",
    "\n",
    "conn = sqlite3.connect(r\"database\\database.db\")\n",
    "cur = conn.cursor()\n",
    "sql = \"\"\"\n",
    "    SELECT circumstances FROM T車両履歴\n",
    "    WHERE department = '03'\n",
    "    AND implementation_date <= '2023/10/01'\n",
    "    GROUP by circumstances;\n",
    "    \"\"\"\n",
    "cur.execute(sql)\n",
    "result = cur.fetchall()\n",
    "print(result)\n",
    "circ_list = []\n",
    "for circ in result:\n",
    "    circ_list.append(circ[0])\n",
    "if \"B\" in circ_list:\n",
    "    j = True\n",
    "else:\n",
    "    j = False\n",
    "print(j) "
   ]
  },
  {
   "cell_type": "code",
   "execution_count": 2,
   "metadata": {},
   "outputs": [
    {
     "name": "stdout",
     "output_type": "stream",
     "text": [
      "[('2022/01/01', '導入', '03', '戸田'), ('2023/10/02', '移動（元）', '03', '戸田'), ('2023/10/02', '移動（先）', '07', '茨城')]\n"
     ]
    }
   ],
   "source": [
    "import sqlite3\n",
    "\n",
    "DATABASE = r\"database\\database.db\"\n",
    "\n",
    "sql = f\"\"\"\n",
    "    SELECT a.implementation_date,\n",
    "    CASE\n",
    "    WHEN a.circumstances = 'A' THEN '導入'\n",
    "    WHEN a.circumstances = 'F' THEN '移動（元）'\n",
    "    WHEN a.circumstances = 'T' THEN '移動（先）'\n",
    "    WHEN a.circumstances = 'D' THEN '廃止'\n",
    "    END as situation,\n",
    "    a.department,\n",
    "    b.name\n",
    "    FROM T車両履歴 as a\n",
    "    LEFT JOIN M部署 as b\n",
    "    on a.department = b.code\n",
    "    WHERE a.company_use_number = '216161'\n",
    "    ORDER by id;\n",
    "    \"\"\"\n",
    "conn = sqlite3.connect(DATABASE)\n",
    "cur = conn.cursor()\n",
    "cur.execute(sql)\n",
    "result = cur.fetchall()\n",
    "print(result)"
   ]
  },
  {
   "cell_type": "code",
   "execution_count": 29,
   "metadata": {},
   "outputs": [],
   "source": [
    "import sqlite3\n",
    "import openpyxl\n",
    "\n",
    "DATABASE = \"database/database.db\"\n",
    "\n",
    "wb = openpyxl.load_workbook(\"月末指針_2022.xlsx\")\n",
    "sheetname_dict = {\"茨城\": \"07\", \"足立\": \"09\", \"上三川\": \"22\", \"栃木\": \"02\",\n",
    "                  \"名古屋\": \"13\", \"共配\": \"09\", \"千葉\": \"04\", \"神奈川\": \"08\", \"群馬\": \"05\"}\n",
    "\n",
    "rows = []\n",
    "for k, v in sheetname_dict.items():\n",
    "    ws = wb[k]\n",
    "    i = 1\n",
    "    c = 1\n",
    "    for m in [4, 5, 6, 7, 8, 9, 10, 11, 12, 1, 2, 3]:\n",
    "        r = 3\n",
    "        while True:\n",
    "            if ws.cell(r, c).value is None:\n",
    "                break\n",
    "            else:\n",
    "                section = (i, 2022, m,\n",
    "                        ws.cell(r, c).value,\n",
    "                        v,\n",
    "                        0.0 if ws.cell(r, c+2).value is None else float(ws.cell(r, c+2).value),\n",
    "                        0.0 if ws.cell(r, c+4).value is None else float(ws.cell(r, c+4).value))\n",
    "                rows.append(section)\n",
    "                i += 1\n",
    "                r += 1\n",
    "ws = wb[\"戸田\"]\n",
    "i = 1\n",
    "c = 1\n",
    "for m in [4, 5, 6, 7, 8, 9, 10, 11, 12, 1, 2, 3]:\n",
    "    r = 3\n",
    "    while True:\n",
    "        if ws.cell(r, c).value is None:\n",
    "            break\n",
    "        else:\n",
    "            section = (i, 2022, m,\n",
    "                    ws.cell(r, c).value,\n",
    "                    \"03\",\n",
    "                    0.0 if ws.cell(r, c+2).value is None else float(ws.cell(r, c+2).value),\n",
    "                    0.0 if ws.cell(r, c+4).value is None else float(ws.cell(r, c+6).value))\n",
    "            rows.append(section)\n",
    "            i += 1\n",
    "            r += 1\n",
    "\n",
    "sql = \"\"\"\n",
    "    INSERT INTO T燃料使用量 VALUES(?, ?, ?, ?, ?, ?, ?)\n",
    "    \"\"\"\n",
    "conn = sqlite3.connect(DATABASE)\n",
    "cur = conn.cursor()\n",
    "cur.executemany(sql, rows)\n",
    "conn.commit()"
   ]
  },
  {
   "cell_type": "code",
   "execution_count": 6,
   "metadata": {},
   "outputs": [
    {
     "name": "stdout",
     "output_type": "stream",
     "text": [
      "<class 'NoneType'>\n"
     ]
    }
   ],
   "source": [
    "import openpyxl\n",
    "\n",
    "wb = openpyxl.load_workbook(\"月末指針_2022.xlsx\")\n",
    "ws = wb[\"茨城\"]\n",
    "\n",
    "print(type(ws.cell(29,1).value))"
   ]
  }
 ],
 "metadata": {
  "kernelspec": {
   "display_name": "Python 3",
   "language": "python",
   "name": "python3"
  },
  "language_info": {
   "codemirror_mode": {
    "name": "ipython",
    "version": 3
   },
   "file_extension": ".py",
   "mimetype": "text/x-python",
   "name": "python",
   "nbconvert_exporter": "python",
   "pygments_lexer": "ipython3",
   "version": "3.11.1"
  },
  "orig_nbformat": 4
 },
 "nbformat": 4,
 "nbformat_minor": 2
}
