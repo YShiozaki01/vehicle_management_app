{
 "cells": [
  {
   "cell_type": "code",
   "execution_count": 4,
   "metadata": {},
   "outputs": [],
   "source": [
    "import sqlite3\n",
    "\n",
    "conn = sqlite3.connect(\"./database/database.db\")\n",
    "cur = conn.cursor()\n",
    "sql = \"DELETE FROM T車両台帳;\"\n",
    "cur.execute(sql)\n",
    "conn.commit()\n",
    "sql = \"\"\"\n",
    "    SELECT\n",
    "    company_use_number,\n",
    "    classification,\n",
    "    maker,\n",
    "    model_number,\n",
    "    body_number,\n",
    "    modelYear,\n",
    "    car_size,\n",
    "    load_capacity,\n",
    "    specification,\n",
    "    riding_capacity,\n",
    "    fuel_type,\n",
    "    update_date\n",
    "    FROM TBase_Vehicle\n",
    "    ORDER BY id;\n",
    "    \"\"\"\n",
    "cur.execute(sql)\n",
    "result = cur.fetchall()\n",
    "i = 0\n",
    "for c in result:\n",
    "    i += 1\n",
    "    sql = f\"INSERT INTO T車両台帳 VALUES({i}, ?, ?, ?, ?, ?, ?, ?, ?, ?, ?, ?, ?);\"\n",
    "    cur.execute(sql, c)\n",
    "    conn.commit()"
   ]
  }
 ],
 "metadata": {
  "kernelspec": {
   "display_name": "Python 3",
   "language": "python",
   "name": "python3"
  },
  "language_info": {
   "codemirror_mode": {
    "name": "ipython",
    "version": 3
   },
   "file_extension": ".py",
   "mimetype": "text/x-python",
   "name": "python",
   "nbconvert_exporter": "python",
   "pygments_lexer": "ipython3",
   "version": "3.11.2"
  },
  "orig_nbformat": 4
 },
 "nbformat": 4,
 "nbformat_minor": 2
}
